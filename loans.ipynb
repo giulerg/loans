{
 "cells": [
  {
   "cell_type": "code",
   "execution_count": 5,
   "metadata": {},
   "outputs": [],
   "source": [
    "import numpy as np\n",
    "import pandas as pd\n",
    "import matplotlib.pyplot as plt\n",
    "import seaborn as sns"
   ]
  },
  {
   "cell_type": "code",
   "execution_count": 262,
   "metadata": {},
   "outputs": [],
   "source": [
    "orders = pd.read_csv('./orders.csv')\n",
    "payments = pd.read_csv('./payments.csv')\n",
    "plan = pd.read_csv('./plan.csv')"
   ]
  },
  {
   "cell_type": "markdown",
   "metadata": {},
   "source": [
    "## Исследование данных"
   ]
  },
  {
   "cell_type": "code",
   "execution_count": 117,
   "metadata": {},
   "outputs": [
    {
     "name": "stdout",
     "output_type": "stream",
     "text": [
      "<class 'pandas.core.frame.DataFrame'>\n",
      "RangeIndex: 55748 entries, 0 to 55747\n",
      "Data columns (total 5 columns):\n",
      " #   Column      Non-Null Count  Dtype  \n",
      "---  ------      --------------  -----  \n",
      " 0   order_id    55748 non-null  int64  \n",
      " 1   created_at  55748 non-null  object \n",
      " 2   put_at      55748 non-null  object \n",
      " 3   closed_at   46472 non-null  object \n",
      " 4   issued_sum  55748 non-null  float64\n",
      "dtypes: float64(1), int64(1), object(3)\n",
      "memory usage: 2.1+ MB\n"
     ]
    }
   ],
   "source": [
    "orders.info()"
   ]
  },
  {
   "cell_type": "code",
   "execution_count": 118,
   "metadata": {},
   "outputs": [
    {
     "name": "stdout",
     "output_type": "stream",
     "text": [
      "<class 'pandas.core.frame.DataFrame'>\n",
      "RangeIndex: 143284 entries, 0 to 143283\n",
      "Data columns (total 3 columns):\n",
      " #   Column    Non-Null Count   Dtype  \n",
      "---  ------    --------------   -----  \n",
      " 0   order_id  143284 non-null  int64  \n",
      " 1   paid_at   143284 non-null  object \n",
      " 2   paid_sum  143284 non-null  float64\n",
      "dtypes: float64(1), int64(1), object(1)\n",
      "memory usage: 3.3+ MB\n"
     ]
    }
   ],
   "source": [
    "payments.info()"
   ]
  },
  {
   "cell_type": "code",
   "execution_count": 11,
   "metadata": {},
   "outputs": [
    {
     "name": "stdout",
     "output_type": "stream",
     "text": [
      "<class 'pandas.core.frame.DataFrame'>\n",
      "RangeIndex: 420282 entries, 0 to 420281\n",
      "Data columns (total 3 columns):\n",
      " #   Column          Non-Null Count   Dtype  \n",
      "---  ------          --------------   -----  \n",
      " 0   order_id        420282 non-null  int64  \n",
      " 1   plan_at         420282 non-null  object \n",
      " 2   plan_sum_total  420282 non-null  float64\n",
      "dtypes: float64(1), int64(1), object(1)\n",
      "memory usage: 9.6+ MB\n"
     ]
    }
   ],
   "source": [
    "plan.info()"
   ]
  },
  {
   "cell_type": "code",
   "execution_count": 119,
   "metadata": {},
   "outputs": [
    {
     "data": {
      "text/plain": [
       "55748"
      ]
     },
     "execution_count": 119,
     "metadata": {},
     "output_type": "execute_result"
    }
   ],
   "source": [
    "len(orders)"
   ]
  },
  {
   "cell_type": "code",
   "execution_count": 72,
   "metadata": {},
   "outputs": [
    {
     "data": {
      "text/plain": [
       "143284"
      ]
     },
     "execution_count": 72,
     "metadata": {},
     "output_type": "execute_result"
    }
   ],
   "source": [
    "len(payments)"
   ]
  },
  {
   "cell_type": "code",
   "execution_count": 69,
   "metadata": {},
   "outputs": [
    {
     "data": {
      "text/plain": [
       "420282"
      ]
     },
     "execution_count": 69,
     "metadata": {},
     "output_type": "execute_result"
    }
   ],
   "source": [
    "len(plan)"
   ]
  },
  {
   "cell_type": "code",
   "execution_count": 8,
   "metadata": {},
   "outputs": [
    {
     "data": {
      "text/html": [
       "<div>\n",
       "<style scoped>\n",
       "    .dataframe tbody tr th:only-of-type {\n",
       "        vertical-align: middle;\n",
       "    }\n",
       "\n",
       "    .dataframe tbody tr th {\n",
       "        vertical-align: top;\n",
       "    }\n",
       "\n",
       "    .dataframe thead th {\n",
       "        text-align: right;\n",
       "    }\n",
       "</style>\n",
       "<table border=\"1\" class=\"dataframe\">\n",
       "  <thead>\n",
       "    <tr style=\"text-align: right;\">\n",
       "      <th></th>\n",
       "      <th>order_id</th>\n",
       "      <th>created_at</th>\n",
       "      <th>put_at</th>\n",
       "      <th>closed_at</th>\n",
       "      <th>issued_sum</th>\n",
       "    </tr>\n",
       "  </thead>\n",
       "  <tbody>\n",
       "    <tr>\n",
       "      <th>0</th>\n",
       "      <td>400001732</td>\n",
       "      <td>2022-06-02 00:00:23.997</td>\n",
       "      <td>2022-06-02 20:18:00.180</td>\n",
       "      <td>2022-10-17 11:52:22.190</td>\n",
       "      <td>13600.0</td>\n",
       "    </tr>\n",
       "    <tr>\n",
       "      <th>1</th>\n",
       "      <td>400005838</td>\n",
       "      <td>2022-06-02 00:10:22.997</td>\n",
       "      <td>2022-06-02 15:41:33.267</td>\n",
       "      <td>2022-06-02 17:38:43.917</td>\n",
       "      <td>20000.0</td>\n",
       "    </tr>\n",
       "    <tr>\n",
       "      <th>2</th>\n",
       "      <td>400007915</td>\n",
       "      <td>2022-06-02 00:18:04.000</td>\n",
       "      <td>2022-06-05 19:17:38.547</td>\n",
       "      <td>2022-06-21 21:55:51.877</td>\n",
       "      <td>5820.0</td>\n",
       "    </tr>\n",
       "    <tr>\n",
       "      <th>3</th>\n",
       "      <td>400008952</td>\n",
       "      <td>2022-06-02 00:22:07.000</td>\n",
       "      <td>2022-06-03 14:25:18.033</td>\n",
       "      <td>2022-07-12 10:47:46.307</td>\n",
       "      <td>9000.0</td>\n",
       "    </tr>\n",
       "    <tr>\n",
       "      <th>4</th>\n",
       "      <td>400009027</td>\n",
       "      <td>2022-06-02 00:25:39.000</td>\n",
       "      <td>2022-06-02 00:40:40.320</td>\n",
       "      <td>2022-06-22 14:15:07.423</td>\n",
       "      <td>5000.0</td>\n",
       "    </tr>\n",
       "  </tbody>\n",
       "</table>\n",
       "</div>"
      ],
      "text/plain": [
       "    order_id               created_at                   put_at  \\\n",
       "0  400001732  2022-06-02 00:00:23.997  2022-06-02 20:18:00.180   \n",
       "1  400005838  2022-06-02 00:10:22.997  2022-06-02 15:41:33.267   \n",
       "2  400007915  2022-06-02 00:18:04.000  2022-06-05 19:17:38.547   \n",
       "3  400008952  2022-06-02 00:22:07.000  2022-06-03 14:25:18.033   \n",
       "4  400009027  2022-06-02 00:25:39.000  2022-06-02 00:40:40.320   \n",
       "\n",
       "                 closed_at  issued_sum  \n",
       "0  2022-10-17 11:52:22.190     13600.0  \n",
       "1  2022-06-02 17:38:43.917     20000.0  \n",
       "2  2022-06-21 21:55:51.877      5820.0  \n",
       "3  2022-07-12 10:47:46.307      9000.0  \n",
       "4  2022-06-22 14:15:07.423      5000.0  "
      ]
     },
     "execution_count": 8,
     "metadata": {},
     "output_type": "execute_result"
    }
   ],
   "source": [
    "orders.head()"
   ]
  },
  {
   "cell_type": "code",
   "execution_count": 12,
   "metadata": {},
   "outputs": [
    {
     "data": {
      "text/html": [
       "<div>\n",
       "<style scoped>\n",
       "    .dataframe tbody tr th:only-of-type {\n",
       "        vertical-align: middle;\n",
       "    }\n",
       "\n",
       "    .dataframe tbody tr th {\n",
       "        vertical-align: top;\n",
       "    }\n",
       "\n",
       "    .dataframe thead th {\n",
       "        text-align: right;\n",
       "    }\n",
       "</style>\n",
       "<table border=\"1\" class=\"dataframe\">\n",
       "  <thead>\n",
       "    <tr style=\"text-align: right;\">\n",
       "      <th></th>\n",
       "      <th>order_id</th>\n",
       "      <th>paid_at</th>\n",
       "      <th>paid_sum</th>\n",
       "    </tr>\n",
       "  </thead>\n",
       "  <tbody>\n",
       "    <tr>\n",
       "      <th>0</th>\n",
       "      <td>400013633</td>\n",
       "      <td>2022-06-02 00:48:13.800</td>\n",
       "      <td>2500.0</td>\n",
       "    </tr>\n",
       "    <tr>\n",
       "      <th>1</th>\n",
       "      <td>400018480</td>\n",
       "      <td>2022-06-02 01:52:05.707</td>\n",
       "      <td>1070.0</td>\n",
       "    </tr>\n",
       "    <tr>\n",
       "      <th>2</th>\n",
       "      <td>400032001</td>\n",
       "      <td>2022-06-02 04:55:40.307</td>\n",
       "      <td>4200.0</td>\n",
       "    </tr>\n",
       "    <tr>\n",
       "      <th>3</th>\n",
       "      <td>400033195</td>\n",
       "      <td>2022-06-02 05:44:23.480</td>\n",
       "      <td>2850.0</td>\n",
       "    </tr>\n",
       "    <tr>\n",
       "      <th>4</th>\n",
       "      <td>400039407</td>\n",
       "      <td>2022-06-02 06:53:54.503</td>\n",
       "      <td>10100.0</td>\n",
       "    </tr>\n",
       "  </tbody>\n",
       "</table>\n",
       "</div>"
      ],
      "text/plain": [
       "    order_id                  paid_at  paid_sum\n",
       "0  400013633  2022-06-02 00:48:13.800    2500.0\n",
       "1  400018480  2022-06-02 01:52:05.707    1070.0\n",
       "2  400032001  2022-06-02 04:55:40.307    4200.0\n",
       "3  400033195  2022-06-02 05:44:23.480    2850.0\n",
       "4  400039407  2022-06-02 06:53:54.503   10100.0"
      ]
     },
     "execution_count": 12,
     "metadata": {},
     "output_type": "execute_result"
    }
   ],
   "source": [
    "payments.head()"
   ]
  },
  {
   "cell_type": "code",
   "execution_count": 13,
   "metadata": {},
   "outputs": [
    {
     "data": {
      "text/html": [
       "<div>\n",
       "<style scoped>\n",
       "    .dataframe tbody tr th:only-of-type {\n",
       "        vertical-align: middle;\n",
       "    }\n",
       "\n",
       "    .dataframe tbody tr th {\n",
       "        vertical-align: top;\n",
       "    }\n",
       "\n",
       "    .dataframe thead th {\n",
       "        text-align: right;\n",
       "    }\n",
       "</style>\n",
       "<table border=\"1\" class=\"dataframe\">\n",
       "  <thead>\n",
       "    <tr style=\"text-align: right;\">\n",
       "      <th></th>\n",
       "      <th>order_id</th>\n",
       "      <th>plan_at</th>\n",
       "      <th>plan_sum_total</th>\n",
       "    </tr>\n",
       "  </thead>\n",
       "  <tbody>\n",
       "    <tr>\n",
       "      <th>0</th>\n",
       "      <td>400001732</td>\n",
       "      <td>2022-06-02</td>\n",
       "      <td>5600.0</td>\n",
       "    </tr>\n",
       "    <tr>\n",
       "      <th>1</th>\n",
       "      <td>400001732</td>\n",
       "      <td>2022-07-02</td>\n",
       "      <td>9450.0</td>\n",
       "    </tr>\n",
       "    <tr>\n",
       "      <th>2</th>\n",
       "      <td>400001732</td>\n",
       "      <td>2022-08-01</td>\n",
       "      <td>12170.0</td>\n",
       "    </tr>\n",
       "    <tr>\n",
       "      <th>3</th>\n",
       "      <td>400001732</td>\n",
       "      <td>2022-08-31</td>\n",
       "      <td>14890.0</td>\n",
       "    </tr>\n",
       "    <tr>\n",
       "      <th>4</th>\n",
       "      <td>400001732</td>\n",
       "      <td>2022-09-30</td>\n",
       "      <td>17610.0</td>\n",
       "    </tr>\n",
       "  </tbody>\n",
       "</table>\n",
       "</div>"
      ],
      "text/plain": [
       "    order_id     plan_at  plan_sum_total\n",
       "0  400001732  2022-06-02          5600.0\n",
       "1  400001732  2022-07-02          9450.0\n",
       "2  400001732  2022-08-01         12170.0\n",
       "3  400001732  2022-08-31         14890.0\n",
       "4  400001732  2022-09-30         17610.0"
      ]
     },
     "execution_count": 13,
     "metadata": {},
     "output_type": "execute_result"
    }
   ],
   "source": [
    "plan.head()"
   ]
  },
  {
   "cell_type": "markdown",
   "metadata": {},
   "source": [
    "Посмотрим, есть ли поля с пустыми значениями"
   ]
  },
  {
   "cell_type": "code",
   "execution_count": 29,
   "metadata": {},
   "outputs": [
    {
     "data": {
      "text/plain": [
       "order_id         0\n",
       "created_at       0\n",
       "put_at           0\n",
       "closed_at     9276\n",
       "issued_sum       0\n",
       "dtype: int64"
      ]
     },
     "execution_count": 29,
     "metadata": {},
     "output_type": "execute_result"
    }
   ],
   "source": [
    "orders.isna().sum()"
   ]
  },
  {
   "cell_type": "code",
   "execution_count": 30,
   "metadata": {},
   "outputs": [
    {
     "data": {
      "text/plain": [
       "order_id    0\n",
       "paid_at     0\n",
       "paid_sum    0\n",
       "dtype: int64"
      ]
     },
     "execution_count": 30,
     "metadata": {},
     "output_type": "execute_result"
    }
   ],
   "source": [
    "payments.isna().sum()"
   ]
  },
  {
   "cell_type": "code",
   "execution_count": 31,
   "metadata": {},
   "outputs": [
    {
     "data": {
      "text/plain": [
       "order_id          0\n",
       "plan_at           0\n",
       "plan_sum_total    0\n",
       "dtype: int64"
      ]
     },
     "execution_count": 31,
     "metadata": {},
     "output_type": "execute_result"
    }
   ],
   "source": [
    "plan.isna().sum()"
   ]
  },
  {
   "cell_type": "markdown",
   "metadata": {},
   "source": [
    "Пустых значений в других таблицах нет. В orders пустое поле closed_at означает,что кредит еще действующий. Для удобства добавим флаг closed.\n",
    "\n",
    "True будет означать, что кредит закрыт\n",
    "\n",
    "False - еще действует"
   ]
  },
  {
   "cell_type": "code",
   "execution_count": 150,
   "metadata": {},
   "outputs": [
    {
     "data": {
      "text/plain": [
       "9276"
      ]
     },
     "execution_count": 150,
     "metadata": {},
     "output_type": "execute_result"
    }
   ],
   "source": [
    "orders['closed'] = ~(orders['closed_at'].isna())\n",
    "##общее число действующих кредитов\n",
    "len(orders[orders['closed']==False])"
   ]
  },
  {
   "cell_type": "markdown",
   "metadata": {},
   "source": [
    "Проверим также на дубли в таблице orders"
   ]
  },
  {
   "cell_type": "code",
   "execution_count": 140,
   "metadata": {},
   "outputs": [
    {
     "data": {
      "text/plain": [
       "np.int64(0)"
      ]
     },
     "execution_count": 140,
     "metadata": {},
     "output_type": "execute_result"
    }
   ],
   "source": [
    "orders['order_id'].duplicated().sum()"
   ]
  },
  {
   "cell_type": "markdown",
   "metadata": {},
   "source": [
    "Создадим доп поле index_number для объединения таблиц plan и payments"
   ]
  },
  {
   "cell_type": "code",
   "execution_count": 151,
   "metadata": {},
   "outputs": [],
   "source": [
    "plan =plan.sort_values(by=['order_id', 'plan_at'])\n",
    "plan['index_number'] = plan.groupby(by='order_id').cumcount()\n",
    "\n",
    "payments =payments.sort_values(by=['order_id', 'paid_at'])\n",
    "payments['index_number'] = payments.groupby(by='order_id').cumcount()"
   ]
  },
  {
   "cell_type": "code",
   "execution_count": 185,
   "metadata": {},
   "outputs": [
    {
     "data": {
      "text/html": [
       "<div>\n",
       "<style scoped>\n",
       "    .dataframe tbody tr th:only-of-type {\n",
       "        vertical-align: middle;\n",
       "    }\n",
       "\n",
       "    .dataframe tbody tr th {\n",
       "        vertical-align: top;\n",
       "    }\n",
       "\n",
       "    .dataframe thead th {\n",
       "        text-align: right;\n",
       "    }\n",
       "</style>\n",
       "<table border=\"1\" class=\"dataframe\">\n",
       "  <thead>\n",
       "    <tr style=\"text-align: right;\">\n",
       "      <th></th>\n",
       "      <th>order_id</th>\n",
       "      <th>paid_at</th>\n",
       "      <th>paid_sum</th>\n",
       "      <th>index_number</th>\n",
       "      <th>plan_at</th>\n",
       "      <th>plan_sum_total</th>\n",
       "    </tr>\n",
       "  </thead>\n",
       "  <tbody>\n",
       "    <tr>\n",
       "      <th>0</th>\n",
       "      <td>400001732</td>\n",
       "      <td>2022-06-02 20:20:16.790</td>\n",
       "      <td>5600.00</td>\n",
       "      <td>0</td>\n",
       "      <td>2022-06-02</td>\n",
       "      <td>5600.00</td>\n",
       "    </tr>\n",
       "    <tr>\n",
       "      <th>1</th>\n",
       "      <td>400001732</td>\n",
       "      <td>2022-06-16 16:05:26.007</td>\n",
       "      <td>3850.00</td>\n",
       "      <td>1</td>\n",
       "      <td>2022-07-02</td>\n",
       "      <td>9450.00</td>\n",
       "    </tr>\n",
       "    <tr>\n",
       "      <th>2</th>\n",
       "      <td>400001732</td>\n",
       "      <td>2022-07-15 12:32:34.087</td>\n",
       "      <td>2720.00</td>\n",
       "      <td>2</td>\n",
       "      <td>2022-08-01</td>\n",
       "      <td>12170.00</td>\n",
       "    </tr>\n",
       "    <tr>\n",
       "      <th>3</th>\n",
       "      <td>400001732</td>\n",
       "      <td>2022-08-16 12:38:01.237</td>\n",
       "      <td>2720.00</td>\n",
       "      <td>3</td>\n",
       "      <td>2022-08-31</td>\n",
       "      <td>14890.00</td>\n",
       "    </tr>\n",
       "    <tr>\n",
       "      <th>4</th>\n",
       "      <td>400001732</td>\n",
       "      <td>2022-09-15 12:14:48.867</td>\n",
       "      <td>2720.00</td>\n",
       "      <td>4</td>\n",
       "      <td>2022-09-30</td>\n",
       "      <td>17610.00</td>\n",
       "    </tr>\n",
       "    <tr>\n",
       "      <th>...</th>\n",
       "      <td>...</td>\n",
       "      <td>...</td>\n",
       "      <td>...</td>\n",
       "      <td>...</td>\n",
       "      <td>...</td>\n",
       "      <td>...</td>\n",
       "    </tr>\n",
       "    <tr>\n",
       "      <th>142048</th>\n",
       "      <td>495177509</td>\n",
       "      <td>2022-10-19 03:38:53.250</td>\n",
       "      <td>2762.32</td>\n",
       "      <td>5</td>\n",
       "      <td>2022-11-07</td>\n",
       "      <td>26183.72</td>\n",
       "    </tr>\n",
       "    <tr>\n",
       "      <th>142049</th>\n",
       "      <td>495177509</td>\n",
       "      <td>2022-10-21 01:13:10.547</td>\n",
       "      <td>2725.32</td>\n",
       "      <td>6</td>\n",
       "      <td>2022-11-22</td>\n",
       "      <td>28909.04</td>\n",
       "    </tr>\n",
       "    <tr>\n",
       "      <th>142050</th>\n",
       "      <td>495177509</td>\n",
       "      <td>2022-10-21 05:23:00.557</td>\n",
       "      <td>2688.33</td>\n",
       "      <td>7</td>\n",
       "      <td>2022-12-07</td>\n",
       "      <td>31597.37</td>\n",
       "    </tr>\n",
       "    <tr>\n",
       "      <th>142051</th>\n",
       "      <td>495177509</td>\n",
       "      <td>2022-10-23 15:21:43.243</td>\n",
       "      <td>2651.33</td>\n",
       "      <td>8</td>\n",
       "      <td>2022-12-22</td>\n",
       "      <td>34248.70</td>\n",
       "    </tr>\n",
       "    <tr>\n",
       "      <th>142052</th>\n",
       "      <td>495177509</td>\n",
       "      <td>2022-10-24 13:10:53.557</td>\n",
       "      <td>2614.34</td>\n",
       "      <td>9</td>\n",
       "      <td>2023-01-06</td>\n",
       "      <td>36863.04</td>\n",
       "    </tr>\n",
       "  </tbody>\n",
       "</table>\n",
       "<p>142053 rows × 6 columns</p>\n",
       "</div>"
      ],
      "text/plain": [
       "         order_id                  paid_at  paid_sum  index_number  \\\n",
       "0       400001732  2022-06-02 20:20:16.790   5600.00             0   \n",
       "1       400001732  2022-06-16 16:05:26.007   3850.00             1   \n",
       "2       400001732  2022-07-15 12:32:34.087   2720.00             2   \n",
       "3       400001732  2022-08-16 12:38:01.237   2720.00             3   \n",
       "4       400001732  2022-09-15 12:14:48.867   2720.00             4   \n",
       "...           ...                      ...       ...           ...   \n",
       "142048  495177509  2022-10-19 03:38:53.250   2762.32             5   \n",
       "142049  495177509  2022-10-21 01:13:10.547   2725.32             6   \n",
       "142050  495177509  2022-10-21 05:23:00.557   2688.33             7   \n",
       "142051  495177509  2022-10-23 15:21:43.243   2651.33             8   \n",
       "142052  495177509  2022-10-24 13:10:53.557   2614.34             9   \n",
       "\n",
       "           plan_at  plan_sum_total  \n",
       "0       2022-06-02         5600.00  \n",
       "1       2022-07-02         9450.00  \n",
       "2       2022-08-01        12170.00  \n",
       "3       2022-08-31        14890.00  \n",
       "4       2022-09-30        17610.00  \n",
       "...            ...             ...  \n",
       "142048  2022-11-07        26183.72  \n",
       "142049  2022-11-22        28909.04  \n",
       "142050  2022-12-07        31597.37  \n",
       "142051  2022-12-22        34248.70  \n",
       "142052  2023-01-06        36863.04  \n",
       "\n",
       "[142053 rows x 6 columns]"
      ]
     },
     "execution_count": 185,
     "metadata": {},
     "output_type": "execute_result"
    }
   ],
   "source": [
    "df_payments_plan = payments.merge(plan, on=['order_id', 'index_number'], how='inner')\n",
    "df_payments_plan"
   ]
  },
  {
   "cell_type": "code",
   "execution_count": 186,
   "metadata": {},
   "outputs": [],
   "source": [
    "df_payments_plan['paid_at']  = pd.to_datetime(df_payments_plan['paid_at']) \n",
    "df_payments_plan['plan_at']  = pd.to_datetime(df_payments_plan['plan_at']) \n"
   ]
  },
  {
   "cell_type": "markdown",
   "metadata": {},
   "source": [
    "Посчитаем количество дней просрочки"
   ]
  },
  {
   "cell_type": "code",
   "execution_count": 188,
   "metadata": {},
   "outputs": [
    {
     "data": {
      "text/html": [
       "<div>\n",
       "<style scoped>\n",
       "    .dataframe tbody tr th:only-of-type {\n",
       "        vertical-align: middle;\n",
       "    }\n",
       "\n",
       "    .dataframe tbody tr th {\n",
       "        vertical-align: top;\n",
       "    }\n",
       "\n",
       "    .dataframe thead th {\n",
       "        text-align: right;\n",
       "    }\n",
       "</style>\n",
       "<table border=\"1\" class=\"dataframe\">\n",
       "  <thead>\n",
       "    <tr style=\"text-align: right;\">\n",
       "      <th></th>\n",
       "      <th>order_id</th>\n",
       "      <th>paid_at</th>\n",
       "      <th>paid_sum</th>\n",
       "      <th>index_number</th>\n",
       "      <th>plan_at</th>\n",
       "      <th>plan_sum_total</th>\n",
       "      <th>delays</th>\n",
       "    </tr>\n",
       "  </thead>\n",
       "  <tbody>\n",
       "    <tr>\n",
       "      <th>0</th>\n",
       "      <td>400001732</td>\n",
       "      <td>2022-06-02 20:20:16.790</td>\n",
       "      <td>5600.00</td>\n",
       "      <td>0</td>\n",
       "      <td>2022-06-02</td>\n",
       "      <td>5600.00</td>\n",
       "      <td>0</td>\n",
       "    </tr>\n",
       "    <tr>\n",
       "      <th>1</th>\n",
       "      <td>400001732</td>\n",
       "      <td>2022-06-16 16:05:26.007</td>\n",
       "      <td>3850.00</td>\n",
       "      <td>1</td>\n",
       "      <td>2022-07-02</td>\n",
       "      <td>9450.00</td>\n",
       "      <td>15</td>\n",
       "    </tr>\n",
       "    <tr>\n",
       "      <th>2</th>\n",
       "      <td>400001732</td>\n",
       "      <td>2022-07-15 12:32:34.087</td>\n",
       "      <td>2720.00</td>\n",
       "      <td>2</td>\n",
       "      <td>2022-08-01</td>\n",
       "      <td>12170.00</td>\n",
       "      <td>16</td>\n",
       "    </tr>\n",
       "    <tr>\n",
       "      <th>3</th>\n",
       "      <td>400001732</td>\n",
       "      <td>2022-08-16 12:38:01.237</td>\n",
       "      <td>2720.00</td>\n",
       "      <td>3</td>\n",
       "      <td>2022-08-31</td>\n",
       "      <td>14890.00</td>\n",
       "      <td>14</td>\n",
       "    </tr>\n",
       "    <tr>\n",
       "      <th>4</th>\n",
       "      <td>400001732</td>\n",
       "      <td>2022-09-15 12:14:48.867</td>\n",
       "      <td>2720.00</td>\n",
       "      <td>4</td>\n",
       "      <td>2022-09-30</td>\n",
       "      <td>17610.00</td>\n",
       "      <td>14</td>\n",
       "    </tr>\n",
       "    <tr>\n",
       "      <th>...</th>\n",
       "      <td>...</td>\n",
       "      <td>...</td>\n",
       "      <td>...</td>\n",
       "      <td>...</td>\n",
       "      <td>...</td>\n",
       "      <td>...</td>\n",
       "      <td>...</td>\n",
       "    </tr>\n",
       "    <tr>\n",
       "      <th>142048</th>\n",
       "      <td>495177509</td>\n",
       "      <td>2022-10-19 03:38:53.250</td>\n",
       "      <td>2762.32</td>\n",
       "      <td>5</td>\n",
       "      <td>2022-11-07</td>\n",
       "      <td>26183.72</td>\n",
       "      <td>18</td>\n",
       "    </tr>\n",
       "    <tr>\n",
       "      <th>142049</th>\n",
       "      <td>495177509</td>\n",
       "      <td>2022-10-21 01:13:10.547</td>\n",
       "      <td>2725.32</td>\n",
       "      <td>6</td>\n",
       "      <td>2022-11-22</td>\n",
       "      <td>28909.04</td>\n",
       "      <td>31</td>\n",
       "    </tr>\n",
       "    <tr>\n",
       "      <th>142050</th>\n",
       "      <td>495177509</td>\n",
       "      <td>2022-10-21 05:23:00.557</td>\n",
       "      <td>2688.33</td>\n",
       "      <td>7</td>\n",
       "      <td>2022-12-07</td>\n",
       "      <td>31597.37</td>\n",
       "      <td>46</td>\n",
       "    </tr>\n",
       "    <tr>\n",
       "      <th>142051</th>\n",
       "      <td>495177509</td>\n",
       "      <td>2022-10-23 15:21:43.243</td>\n",
       "      <td>2651.33</td>\n",
       "      <td>8</td>\n",
       "      <td>2022-12-22</td>\n",
       "      <td>34248.70</td>\n",
       "      <td>59</td>\n",
       "    </tr>\n",
       "    <tr>\n",
       "      <th>142052</th>\n",
       "      <td>495177509</td>\n",
       "      <td>2022-10-24 13:10:53.557</td>\n",
       "      <td>2614.34</td>\n",
       "      <td>9</td>\n",
       "      <td>2023-01-06</td>\n",
       "      <td>36863.04</td>\n",
       "      <td>73</td>\n",
       "    </tr>\n",
       "  </tbody>\n",
       "</table>\n",
       "<p>142053 rows × 7 columns</p>\n",
       "</div>"
      ],
      "text/plain": [
       "         order_id                 paid_at  paid_sum  index_number    plan_at  \\\n",
       "0       400001732 2022-06-02 20:20:16.790   5600.00             0 2022-06-02   \n",
       "1       400001732 2022-06-16 16:05:26.007   3850.00             1 2022-07-02   \n",
       "2       400001732 2022-07-15 12:32:34.087   2720.00             2 2022-08-01   \n",
       "3       400001732 2022-08-16 12:38:01.237   2720.00             3 2022-08-31   \n",
       "4       400001732 2022-09-15 12:14:48.867   2720.00             4 2022-09-30   \n",
       "...           ...                     ...       ...           ...        ...   \n",
       "142048  495177509 2022-10-19 03:38:53.250   2762.32             5 2022-11-07   \n",
       "142049  495177509 2022-10-21 01:13:10.547   2725.32             6 2022-11-22   \n",
       "142050  495177509 2022-10-21 05:23:00.557   2688.33             7 2022-12-07   \n",
       "142051  495177509 2022-10-23 15:21:43.243   2651.33             8 2022-12-22   \n",
       "142052  495177509 2022-10-24 13:10:53.557   2614.34             9 2023-01-06   \n",
       "\n",
       "        plan_sum_total  delays  \n",
       "0              5600.00       0  \n",
       "1              9450.00      15  \n",
       "2             12170.00      16  \n",
       "3             14890.00      14  \n",
       "4             17610.00      14  \n",
       "...                ...     ...  \n",
       "142048        26183.72      18  \n",
       "142049        28909.04      31  \n",
       "142050        31597.37      46  \n",
       "142051        34248.70      59  \n",
       "142052        36863.04      73  \n",
       "\n",
       "[142053 rows x 7 columns]"
      ]
     },
     "execution_count": 188,
     "metadata": {},
     "output_type": "execute_result"
    }
   ],
   "source": [
    "df_payments_plan['delays'] = (df_payments_plan['plan_at'] - df_payments_plan['paid_at']).dt.days  \n",
    "df_payments_plan['delays'] = df_payments_plan['delays'].apply(lambda x: 0 if x<1  else x)\n",
    "df_payments_plan"
   ]
  },
  {
   "cell_type": "markdown",
   "metadata": {},
   "source": [
    "Найдем сумму просрочек по дням для каждого месяца"
   ]
  },
  {
   "cell_type": "code",
   "execution_count": 264,
   "metadata": {},
   "outputs": [
    {
     "data": {
      "text/plain": [
       "month\n",
       "2022-06    6.738254e+07\n",
       "2022-07    1.553741e+08\n",
       "2022-08    1.764116e+08\n",
       "2022-09    1.050847e+08\n",
       "2022-10    3.172942e+07\n",
       "2022-11    1.465809e+07\n",
       "2022-12    4.457852e+06\n",
       "2023-01    4.380495e+05\n",
       "2023-02    5.105618e+04\n",
       "2023-03    5.000000e+02\n",
       "Freq: M, Name: paid_sum, dtype: float64"
      ]
     },
     "execution_count": 264,
     "metadata": {},
     "output_type": "execute_result"
    }
   ],
   "source": [
    "df_payments_plan['month'] = df_payments_plan['plan_at'].dt.to_period('M')\n",
    "delay_by_months = df_payments_plan.groupby('month')['paid_sum'].sum()\n",
    "delay_by_months"
   ]
  },
  {
   "cell_type": "markdown",
   "metadata": {},
   "source": [
    "Отобразим на графике:"
   ]
  },
  {
   "cell_type": "code",
   "execution_count": 265,
   "metadata": {},
   "outputs": [
    {
     "data": {
      "image/png": "[encoded data removed]",
      "text/plain": [
       "<Figure size 1200x800 with 1 Axes>"
      ]
     },
     "metadata": {},
     "output_type": "display_data"
    }
   ],
   "source": [
    "plt.figure(figsize=(12,8))\n",
    "plt.plot(delay_by_months.index.astype(str), delay_by_months.values)\n",
    "plt.ylabel('Сумма просрочек')\n",
    "plt.title('Ежемесячные просрочки')\n",
    "plt.show()"
   ]
  },
  {
   "cell_type": "markdown",
   "metadata": {},
   "source": [
    "По графику видно, что было много просрочек в агусте и в сентябре 2022.Далее идет медленный спад"
   ]
  },
  {
   "cell_type": "markdown",
   "metadata": {},
   "source": [
    "Посчитаем теперь среднее кол-во дней по просчкам по каждому месяцу: "
   ]
  },
  {
   "cell_type": "code",
   "execution_count": 202,
   "metadata": {},
   "outputs": [
    {
     "data": {
      "text/plain": [
       "month\n",
       "2022-06     1.148846\n",
       "2022-07     2.133626\n",
       "2022-08     2.762628\n",
       "2022-09     4.359070\n",
       "2022-10     6.864064\n",
       "2022-11     8.944719\n",
       "2022-12    19.302557\n",
       "2023-01    56.603704\n",
       "2023-02    78.709677\n",
       "2023-03    89.000000\n",
       "Freq: M, Name: delays, dtype: float64"
      ]
     },
     "execution_count": 202,
     "metadata": {},
     "output_type": "execute_result"
    }
   ],
   "source": [
    "mean = df_payments_plan.groupby('month')['delays'].mean()\n",
    "mean"
   ]
  },
  {
   "cell_type": "markdown",
   "metadata": {},
   "source": [
    "Посмотрим,что было в марте 2023"
   ]
  },
  {
   "cell_type": "code",
   "execution_count": 206,
   "metadata": {},
   "outputs": [
    {
     "data": {
      "text/html": [
       "<div>\n",
       "<style scoped>\n",
       "    .dataframe tbody tr th:only-of-type {\n",
       "        vertical-align: middle;\n",
       "    }\n",
       "\n",
       "    .dataframe tbody tr th {\n",
       "        vertical-align: top;\n",
       "    }\n",
       "\n",
       "    .dataframe thead th {\n",
       "        text-align: right;\n",
       "    }\n",
       "</style>\n",
       "<table border=\"1\" class=\"dataframe\">\n",
       "  <thead>\n",
       "    <tr style=\"text-align: right;\">\n",
       "      <th></th>\n",
       "      <th>order_id</th>\n",
       "      <th>paid_at</th>\n",
       "      <th>paid_sum</th>\n",
       "      <th>index_number</th>\n",
       "      <th>plan_at</th>\n",
       "      <th>plan_sum_total</th>\n",
       "      <th>delays</th>\n",
       "      <th>month</th>\n",
       "    </tr>\n",
       "  </thead>\n",
       "  <tbody>\n",
       "    <tr>\n",
       "      <th>141729</th>\n",
       "      <td>494937951</td>\n",
       "      <td>2022-12-06 09:16:55.850</td>\n",
       "      <td>500.0</td>\n",
       "      <td>12</td>\n",
       "      <td>2023-03-06</td>\n",
       "      <td>24649.52</td>\n",
       "      <td>89</td>\n",
       "      <td>2023-03</td>\n",
       "    </tr>\n",
       "  </tbody>\n",
       "</table>\n",
       "</div>"
      ],
      "text/plain": [
       "         order_id                 paid_at  paid_sum  index_number    plan_at  \\\n",
       "141729  494937951 2022-12-06 09:16:55.850     500.0            12 2023-03-06   \n",
       "\n",
       "        plan_sum_total  delays    month  \n",
       "141729        24649.52      89  2023-03  "
      ]
     },
     "execution_count": 206,
     "metadata": {},
     "output_type": "execute_result"
    }
   ],
   "source": [
    "df_payments_plan[df_payments_plan['month']=='2023-03']"
   ]
  },
  {
   "cell_type": "markdown",
   "metadata": {},
   "source": [
    "Среднее нам не дает верной картины происходящего. Тогда посчитаем кол-во просроченных и непросроченных платежей  по каждому месяцу"
   ]
  },
  {
   "cell_type": "code",
   "execution_count": 235,
   "metadata": {},
   "outputs": [],
   "source": [
    "count_dalays= df_payments_plan[df_payments_plan['delays']>0].groupby('month')['delays'].count() "
   ]
  },
  {
   "cell_type": "code",
   "execution_count": 236,
   "metadata": {},
   "outputs": [],
   "source": [
    "count_on_times = df_payments_plan[df_payments_plan['delays']==0].groupby('month')['delays'].count() "
   ]
  },
  {
   "cell_type": "code",
   "execution_count": 237,
   "metadata": {},
   "outputs": [
    {
     "data": {
      "text/plain": [
       "month\n",
       "2022-06    13809\n",
       "2022-07    24745\n",
       "2022-08    28308\n",
       "2022-09    14766\n",
       "2022-10     6544\n",
       "2022-11     3505\n",
       "2022-12      458\n",
       "Freq: M, Name: delays, dtype: int64"
      ]
     },
     "execution_count": 237,
     "metadata": {},
     "output_type": "execute_result"
    }
   ],
   "source": [
    "count_on_times"
   ]
  },
  {
   "cell_type": "code",
   "execution_count": 238,
   "metadata": {},
   "outputs": [
    {
     "data": {
      "text/plain": [
       "month\n",
       "2022-06     2651\n",
       "2022-07     9612\n",
       "2022-08    13344\n",
       "2022-09    11655\n",
       "2022-10     6521\n",
       "2022-11     3984\n",
       "2022-12     1849\n",
       "2023-01      270\n",
       "2023-02       31\n",
       "2023-03        1\n",
       "Freq: M, Name: delays, dtype: int64"
      ]
     },
     "execution_count": 238,
     "metadata": {},
     "output_type": "execute_result"
    }
   ],
   "source": [
    "count_dalays"
   ]
  },
  {
   "cell_type": "code",
   "execution_count": 254,
   "metadata": {},
   "outputs": [],
   "source": [
    "combined = pd.DataFrame({\n",
    "    'delays': count_dalays,\n",
    "    'on_time': count_on_times\n",
    "}).fillna(0)\n"
   ]
  },
  {
   "cell_type": "code",
   "execution_count": 255,
   "metadata": {},
   "outputs": [
    {
     "data": {
      "text/html": [
       "<div>\n",
       "<style scoped>\n",
       "    .dataframe tbody tr th:only-of-type {\n",
       "        vertical-align: middle;\n",
       "    }\n",
       "\n",
       "    .dataframe tbody tr th {\n",
       "        vertical-align: top;\n",
       "    }\n",
       "\n",
       "    .dataframe thead th {\n",
       "        text-align: right;\n",
       "    }\n",
       "</style>\n",
       "<table border=\"1\" class=\"dataframe\">\n",
       "  <thead>\n",
       "    <tr style=\"text-align: right;\">\n",
       "      <th></th>\n",
       "      <th>delays</th>\n",
       "      <th>on_time</th>\n",
       "    </tr>\n",
       "    <tr>\n",
       "      <th>month</th>\n",
       "      <th></th>\n",
       "      <th></th>\n",
       "    </tr>\n",
       "  </thead>\n",
       "  <tbody>\n",
       "    <tr>\n",
       "      <th>2022-06</th>\n",
       "      <td>2651</td>\n",
       "      <td>13809.0</td>\n",
       "    </tr>\n",
       "    <tr>\n",
       "      <th>2022-07</th>\n",
       "      <td>9612</td>\n",
       "      <td>24745.0</td>\n",
       "    </tr>\n",
       "    <tr>\n",
       "      <th>2022-08</th>\n",
       "      <td>13344</td>\n",
       "      <td>28308.0</td>\n",
       "    </tr>\n",
       "    <tr>\n",
       "      <th>2022-09</th>\n",
       "      <td>11655</td>\n",
       "      <td>14766.0</td>\n",
       "    </tr>\n",
       "    <tr>\n",
       "      <th>2022-10</th>\n",
       "      <td>6521</td>\n",
       "      <td>6544.0</td>\n",
       "    </tr>\n",
       "    <tr>\n",
       "      <th>2022-11</th>\n",
       "      <td>3984</td>\n",
       "      <td>3505.0</td>\n",
       "    </tr>\n",
       "    <tr>\n",
       "      <th>2022-12</th>\n",
       "      <td>1849</td>\n",
       "      <td>458.0</td>\n",
       "    </tr>\n",
       "    <tr>\n",
       "      <th>2023-01</th>\n",
       "      <td>270</td>\n",
       "      <td>0.0</td>\n",
       "    </tr>\n",
       "    <tr>\n",
       "      <th>2023-02</th>\n",
       "      <td>31</td>\n",
       "      <td>0.0</td>\n",
       "    </tr>\n",
       "    <tr>\n",
       "      <th>2023-03</th>\n",
       "      <td>1</td>\n",
       "      <td>0.0</td>\n",
       "    </tr>\n",
       "  </tbody>\n",
       "</table>\n",
       "</div>"
      ],
      "text/plain": [
       "         delays  on_time\n",
       "month                   \n",
       "2022-06    2651  13809.0\n",
       "2022-07    9612  24745.0\n",
       "2022-08   13344  28308.0\n",
       "2022-09   11655  14766.0\n",
       "2022-10    6521   6544.0\n",
       "2022-11    3984   3505.0\n",
       "2022-12    1849    458.0\n",
       "2023-01     270      0.0\n",
       "2023-02      31      0.0\n",
       "2023-03       1      0.0"
      ]
     },
     "execution_count": 255,
     "metadata": {},
     "output_type": "execute_result"
    }
   ],
   "source": [
    "combined"
   ]
  },
  {
   "cell_type": "markdown",
   "metadata": {},
   "source": [
    "Построим график "
   ]
  },
  {
   "cell_type": "code",
   "execution_count": 257,
   "metadata": {},
   "outputs": [
    {
     "data": {
      "image/png": "[encoded data removed]",
      "text/plain": [
       "<Figure size 1200x800 with 1 Axes>"
      ]
     },
     "metadata": {},
     "output_type": "display_data"
    }
   ],
   "source": [
    "plt.figure(figsize=(12,8)) \n",
    "plt.title('Динамика выплат')\n",
    "plt.plot(combined.index.astype(str), combined['delays'], label='С просрочкой')\n",
    "plt.plot(combined.index.astype(str), combined['on_time'], label='Во время')\n",
    "plt.legend()\n",
    "plt.show()"
   ]
  },
  {
   "cell_type": "code",
   "execution_count": 258,
   "metadata": {},
   "outputs": [
    {
     "data": {
      "text/plain": [
       "<Axes: xlabel='month'>"
      ]
     },
     "execution_count": 258,
     "metadata": {},
     "output_type": "execute_result"
    },
    {
     "data": {
      "image/png": "[encoded data removed]",
      "text/plain": [
       "<Figure size 1200x800 with 1 Axes>"
      ]
     },
     "metadata": {},
     "output_type": "display_data"
    }
   ],
   "source": [
    "combined.plot(kind='bar', figsize=(12, 8))"
   ]
  },
  {
   "cell_type": "code",
   "execution_count": 261,
   "metadata": {},
   "outputs": [
    {
     "data": {
      "text/html": [
       "<div>\n",
       "<style scoped>\n",
       "    .dataframe tbody tr th:only-of-type {\n",
       "        vertical-align: middle;\n",
       "    }\n",
       "\n",
       "    .dataframe tbody tr th {\n",
       "        vertical-align: top;\n",
       "    }\n",
       "\n",
       "    .dataframe thead th {\n",
       "        text-align: right;\n",
       "    }\n",
       "</style>\n",
       "<table border=\"1\" class=\"dataframe\">\n",
       "  <thead>\n",
       "    <tr style=\"text-align: right;\">\n",
       "      <th></th>\n",
       "      <th>delays</th>\n",
       "      <th>on_time</th>\n",
       "      <th>percent_delays</th>\n",
       "    </tr>\n",
       "    <tr>\n",
       "      <th>month</th>\n",
       "      <th></th>\n",
       "      <th></th>\n",
       "      <th></th>\n",
       "    </tr>\n",
       "  </thead>\n",
       "  <tbody>\n",
       "    <tr>\n",
       "      <th>2022-06</th>\n",
       "      <td>2651</td>\n",
       "      <td>13809.0</td>\n",
       "      <td>16.11</td>\n",
       "    </tr>\n",
       "    <tr>\n",
       "      <th>2022-07</th>\n",
       "      <td>9612</td>\n",
       "      <td>24745.0</td>\n",
       "      <td>27.98</td>\n",
       "    </tr>\n",
       "    <tr>\n",
       "      <th>2022-08</th>\n",
       "      <td>13344</td>\n",
       "      <td>28308.0</td>\n",
       "      <td>32.04</td>\n",
       "    </tr>\n",
       "    <tr>\n",
       "      <th>2022-09</th>\n",
       "      <td>11655</td>\n",
       "      <td>14766.0</td>\n",
       "      <td>44.11</td>\n",
       "    </tr>\n",
       "    <tr>\n",
       "      <th>2022-10</th>\n",
       "      <td>6521</td>\n",
       "      <td>6544.0</td>\n",
       "      <td>49.91</td>\n",
       "    </tr>\n",
       "    <tr>\n",
       "      <th>2022-11</th>\n",
       "      <td>3984</td>\n",
       "      <td>3505.0</td>\n",
       "      <td>53.20</td>\n",
       "    </tr>\n",
       "    <tr>\n",
       "      <th>2022-12</th>\n",
       "      <td>1849</td>\n",
       "      <td>458.0</td>\n",
       "      <td>80.15</td>\n",
       "    </tr>\n",
       "    <tr>\n",
       "      <th>2023-01</th>\n",
       "      <td>270</td>\n",
       "      <td>0.0</td>\n",
       "      <td>100.00</td>\n",
       "    </tr>\n",
       "    <tr>\n",
       "      <th>2023-02</th>\n",
       "      <td>31</td>\n",
       "      <td>0.0</td>\n",
       "      <td>100.00</td>\n",
       "    </tr>\n",
       "    <tr>\n",
       "      <th>2023-03</th>\n",
       "      <td>1</td>\n",
       "      <td>0.0</td>\n",
       "      <td>100.00</td>\n",
       "    </tr>\n",
       "  </tbody>\n",
       "</table>\n",
       "</div>"
      ],
      "text/plain": [
       "         delays  on_time  percent_delays\n",
       "month                                   \n",
       "2022-06    2651  13809.0           16.11\n",
       "2022-07    9612  24745.0           27.98\n",
       "2022-08   13344  28308.0           32.04\n",
       "2022-09   11655  14766.0           44.11\n",
       "2022-10    6521   6544.0           49.91\n",
       "2022-11    3984   3505.0           53.20\n",
       "2022-12    1849    458.0           80.15\n",
       "2023-01     270      0.0          100.00\n",
       "2023-02      31      0.0          100.00\n",
       "2023-03       1      0.0          100.00"
      ]
     },
     "execution_count": 261,
     "metadata": {},
     "output_type": "execute_result"
    }
   ],
   "source": [
    "combined['percent_delays'] = round(combined['delays']/(combined['delays']+combined['on_time'])*100,2)\n",
    "combined"
   ]
  },
  {
   "cell_type": "markdown",
   "metadata": {},
   "source": [
    "# Итог"
   ]
  },
  {
   "cell_type": "markdown",
   "metadata": {},
   "source": [
    "Несмотря на большое количество выплат в июле-августе, наблюдается постепенное увеличение просроченных выплат. Начиная с 2023 года все выплаты осуществляются не по расписанию. Необходимо определить процент допустимых просрочек в месяц и выявить причины такого поведения клиентов."
   ]
  }
 ],
 "metadata": {
  "kernelspec": {
   "display_name": "Python 3",
   "language": "python",
   "name": "python3"
  },
  "language_info": {
   "codemirror_mode": {
    "name": "ipython",
    "version": 3
   },
   "file_extension": ".py",
   "mimetype": "text/x-python",
   "name": "python",
   "nbconvert_exporter": "python",
   "pygments_lexer": "ipython3",
   "version": "3.12.5"
  }
 },
 "nbformat": 4,
 "nbformat_minor": 2
}
